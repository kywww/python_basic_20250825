{
 "cells": [
  {
   "cell_type": "markdown",
   "id": "826ca44e-596b-4e22-985a-275875e8aaac",
   "metadata": {},
   "source": [
    "# 1. 불 자료형은 어떻게 사용할까?"
   ]
  },
  {
   "cell_type": "code",
   "execution_count": 1,
   "id": "cd7e5af0-46ea-4007-986e-51c6494ec369",
   "metadata": {},
   "outputs": [
    {
     "name": "stdout",
     "output_type": "stream",
     "text": [
      "True False\n"
     ]
    }
   ],
   "source": [
    "# 변수에 불 자료형 지정\n",
    "a =  True\n",
    "b = False\n",
    "print(a,b)"
   ]
  },
  {
   "cell_type": "code",
   "execution_count": 2,
   "id": "2047aacc-e200-45f0-bdcf-464c5a944cc1",
   "metadata": {},
   "outputs": [
    {
     "data": {
      "text/plain": [
       "bool"
      ]
     },
     "execution_count": 2,
     "metadata": {},
     "output_type": "execute_result"
    }
   ],
   "source": [
    "type(a)"
   ]
  },
  {
   "cell_type": "code",
   "execution_count": 3,
   "id": "cecff36f-02f8-445a-8746-068a0a4d99eb",
   "metadata": {},
   "outputs": [
    {
     "data": {
      "text/plain": [
       "bool"
      ]
     },
     "execution_count": 3,
     "metadata": {},
     "output_type": "execute_result"
    }
   ],
   "source": [
    "type(b)"
   ]
  },
  {
   "cell_type": "code",
   "execution_count": 4,
   "id": "1f7b84d3-7b90-4507-bb19-0702dc66bd34",
   "metadata": {},
   "outputs": [
    {
     "data": {
      "text/plain": [
       "True"
      ]
     },
     "execution_count": 4,
     "metadata": {},
     "output_type": "execute_result"
    }
   ],
   "source": [
    "# 불 자료형은 조건문의 리턴값으로 사용합니다.\n",
    "1 == 1"
   ]
  },
  {
   "cell_type": "code",
   "execution_count": 5,
   "id": "3b6fab30-9a35-4389-b5a4-f16cfca1abd5",
   "metadata": {},
   "outputs": [
    {
     "data": {
      "text/plain": [
       "False"
      ]
     },
     "execution_count": 5,
     "metadata": {},
     "output_type": "execute_result"
    }
   ],
   "source": [
    "1 == 2"
   ]
  },
  {
   "cell_type": "code",
   "execution_count": 6,
   "id": "52aafeb6-e6a7-44d3-830d-ecd4c0198f03",
   "metadata": {},
   "outputs": [
    {
     "data": {
      "text/plain": [
       "False"
      ]
     },
     "execution_count": 6,
     "metadata": {},
     "output_type": "execute_result"
    }
   ],
   "source": [
    "2>10"
   ]
  },
  {
   "cell_type": "code",
   "execution_count": 7,
   "id": "b451ed36-d015-4e85-b322-c5db663f99c6",
   "metadata": {},
   "outputs": [
    {
     "data": {
      "text/plain": [
       "True"
      ]
     },
     "execution_count": 7,
     "metadata": {},
     "output_type": "execute_result"
    }
   ],
   "source": [
    "20>10"
   ]
  },
  {
   "cell_type": "markdown",
   "id": "e8409417-adce-44c9-a79f-1fc110d830f9",
   "metadata": {},
   "source": [
    "### 자료형의 참과 거짓이 어떻게 쓰이는지 알아보자"
   ]
  },
  {
   "cell_type": "code",
   "execution_count": 8,
   "id": "5a948ba5-5618-4584-80c2-113bd4fa4592",
   "metadata": {},
   "outputs": [
    {
     "name": "stdout",
     "output_type": "stream",
     "text": [
      "4\n",
      "3\n",
      "2\n",
      "1\n"
     ]
    }
   ],
   "source": [
    "a = [1,2,3,4]\n",
    "while a:\n",
    "    print(a.pop())"
   ]
  },
  {
   "cell_type": "code",
   "execution_count": 9,
   "id": "e33b4f8d-198e-4254-a02d-77c3bb97d9ee",
   "metadata": {},
   "outputs": [
    {
     "data": {
      "text/plain": [
       "[]"
      ]
     },
     "execution_count": 9,
     "metadata": {},
     "output_type": "execute_result"
    }
   ],
   "source": [
    "a"
   ]
  },
  {
   "cell_type": "code",
   "execution_count": 10,
   "id": "f32ed138-bc80-4dce-a05e-fcc81e6bc477",
   "metadata": {},
   "outputs": [
    {
     "data": {
      "text/plain": [
       "False"
      ]
     },
     "execution_count": 10,
     "metadata": {},
     "output_type": "execute_result"
    }
   ],
   "source": [
    "bool(a)"
   ]
  },
  {
   "cell_type": "code",
   "execution_count": 11,
   "id": "e29056c6-e508-41cb-949f-08ce64ffaa31",
   "metadata": {},
   "outputs": [
    {
     "name": "stdout",
     "output_type": "stream",
     "text": [
      "거짓\n"
     ]
    }
   ],
   "source": [
    "if []:\n",
    "    print('참')\n",
    "else:\n",
    "    print('거짓')"
   ]
  },
  {
   "cell_type": "code",
   "execution_count": 12,
   "id": "4c77b9f1-8015-4231-a965-f47794e95555",
   "metadata": {},
   "outputs": [
    {
     "name": "stdout",
     "output_type": "stream",
     "text": [
      "참\n"
     ]
    }
   ],
   "source": [
    "if [1,2,3]:\n",
    "    print('참')\n",
    "else:\n",
    "    print('거짓')"
   ]
  },
  {
   "cell_type": "markdown",
   "id": "7bef611c-c1e1-4bd4-a1cd-f6797c85b672",
   "metadata": {},
   "source": [
    "## 3. 불 연산 - bool()"
   ]
  },
  {
   "cell_type": "code",
   "execution_count": 17,
   "id": "8f3386f1-5f5f-4d3d-9a06-7b264dcfa975",
   "metadata": {},
   "outputs": [
    {
     "name": "stdout",
     "output_type": "stream",
     "text": [
      "False\n",
      "True\n",
      "False\n"
     ]
    }
   ],
   "source": [
    "# bool() True인지 False인지 식별해주는 함수\n",
    "print(bool('')) # False\n",
    "print(bool('aaa')) # True\n",
    "print(bool([])) # False"
   ]
  },
  {
   "cell_type": "code",
   "execution_count": null,
   "id": "e4a5afc7-4875-43b7-9ab2-cc8201b2d0e0",
   "metadata": {},
   "outputs": [],
   "source": []
  },
  {
   "cell_type": "code",
   "execution_count": null,
   "id": "9455ba91-04ac-469c-b6d7-06b9815c1476",
   "metadata": {},
   "outputs": [],
   "source": []
  }
 ],
 "metadata": {
  "kernelspec": {
   "display_name": "Python [conda env:base] *",
   "language": "python",
   "name": "conda-base-py"
  },
  "language_info": {
   "codemirror_mode": {
    "name": "ipython",
    "version": 3
   },
   "file_extension": ".py",
   "mimetype": "text/x-python",
   "name": "python",
   "nbconvert_exporter": "python",
   "pygments_lexer": "ipython3",
   "version": "3.13.5"
  }
 },
 "nbformat": 4,
 "nbformat_minor": 5
}
