{
 "cells": [
  {
   "cell_type": "markdown",
   "id": "61132f43-0cf3-4d83-a46b-37b984f62ae5",
   "metadata": {},
   "source": [
    "# 2. 딕셔너리는 어떻게 만들까?"
   ]
  },
  {
   "cell_type": "code",
   "execution_count": 1,
   "id": "c7627813-ee5d-4588-9704-2cb889ffe960",
   "metadata": {},
   "outputs": [
    {
     "data": {
      "text/plain": [
       "dict"
      ]
     },
     "execution_count": 1,
     "metadata": {},
     "output_type": "execute_result"
    }
   ],
   "source": [
    "dic = {'name' : 'kyw', 'phone': '010-1234-5678', 'birth' : '9999'}\n",
    "type(dic)"
   ]
  },
  {
   "cell_type": "code",
   "execution_count": 3,
   "id": "11173ac6-cf83-4198-b47a-275f26022857",
   "metadata": {},
   "outputs": [
    {
     "data": {
      "text/plain": [
       "'kyw'"
      ]
     },
     "execution_count": 3,
     "metadata": {},
     "output_type": "execute_result"
    }
   ],
   "source": [
    "dic['name']"
   ]
  },
  {
   "cell_type": "code",
   "execution_count": 4,
   "id": "acb82ebc-dcdd-4df8-893a-c6ac24371c7d",
   "metadata": {},
   "outputs": [
    {
     "data": {
      "text/plain": [
       "'010-1234-5678'"
      ]
     },
     "execution_count": 4,
     "metadata": {},
     "output_type": "execute_result"
    }
   ],
   "source": [
    "dic['phone']"
   ]
  },
  {
   "cell_type": "code",
   "execution_count": 5,
   "id": "a0794d98-66b9-4d1a-bfa5-5dcf8ee9af6a",
   "metadata": {},
   "outputs": [
    {
     "data": {
      "text/plain": [
       "{'a': [1, 2, 3]}"
      ]
     },
     "execution_count": 5,
     "metadata": {},
     "output_type": "execute_result"
    }
   ],
   "source": [
    "a = {'a' : [1,2,3]}\n",
    "a"
   ]
  },
  {
   "cell_type": "markdown",
   "id": "16ce6960-7941-4c9f-9311-1f484131488b",
   "metadata": {},
   "source": [
    "## 딕셔너리 쌍 추가, 삭제하기"
   ]
  },
  {
   "cell_type": "code",
   "execution_count": 24,
   "id": "b0c376dc-70aa-4051-ae06-e92002a27284",
   "metadata": {},
   "outputs": [
    {
     "data": {
      "text/plain": [
       "{1: 'a', 2: 'b'}"
      ]
     },
     "execution_count": 24,
     "metadata": {},
     "output_type": "execute_result"
    }
   ],
   "source": [
    "a = {1:'a'}\n",
    "a[2] = 'b' # a[2] 2의 자리에 key 이름이 들어감. 'b'의 값에 value 값이 들어감.\n",
    "a"
   ]
  },
  {
   "cell_type": "code",
   "execution_count": 25,
   "id": "c4287af4-59bc-483b-9997-89782a86582c",
   "metadata": {},
   "outputs": [
    {
     "data": {
      "text/plain": [
       "{1: 'a', 2: 'b', 'name': 'kyw'}"
      ]
     },
     "execution_count": 25,
     "metadata": {},
     "output_type": "execute_result"
    }
   ],
   "source": [
    "a['name'] = 'kyw'\n",
    "a"
   ]
  },
  {
   "cell_type": "code",
   "execution_count": 26,
   "id": "fec7082a-de2a-4b49-851b-4f61f1b014c7",
   "metadata": {},
   "outputs": [
    {
     "data": {
      "text/plain": [
       "{1: 'a', 2: 'b', 'name': 'kyw', 3: [1, 2, 3]}"
      ]
     },
     "execution_count": 26,
     "metadata": {},
     "output_type": "execute_result"
    }
   ],
   "source": [
    "a[3] = [1,2,3]\n",
    "a"
   ]
  },
  {
   "cell_type": "code",
   "execution_count": 27,
   "id": "8c68a8e5-04a0-4b0d-81bd-f68a013ae231",
   "metadata": {},
   "outputs": [
    {
     "data": {
      "text/plain": [
       "{1: 'a',\n",
       " 2: 'b',\n",
       " 'name': 'kyw',\n",
       " 3: [1, 2, 3],\n",
       " 'hobby': {'a': [1, 2, 3], 'b': 'sport'}}"
      ]
     },
     "execution_count": 27,
     "metadata": {},
     "output_type": "execute_result"
    }
   ],
   "source": [
    "a['hobby'] = {'a' : [1,2,3], 'b' : 'sport'}\n",
    "a"
   ]
  },
  {
   "cell_type": "code",
   "execution_count": 28,
   "id": "d9d50558-e1dd-4c3c-9fa8-da32be4ccfdd",
   "metadata": {},
   "outputs": [
    {
     "data": {
      "text/plain": [
       "{1: 'a', 2: 'b', 'name': 'kyw', 3: [1, 2, 3]}"
      ]
     },
     "execution_count": 28,
     "metadata": {},
     "output_type": "execute_result"
    }
   ],
   "source": [
    "del a['hobby']\n",
    "a"
   ]
  },
  {
   "cell_type": "code",
   "execution_count": 29,
   "id": "d262debf-a500-420d-9d73-d1450028ae43",
   "metadata": {},
   "outputs": [
    {
     "data": {
      "text/plain": [
       "{1: 'a', 2: 'b', 'name': 'kyw', 3: [1, 2, 3]}"
      ]
     },
     "execution_count": 29,
     "metadata": {},
     "output_type": "execute_result"
    }
   ],
   "source": [
    "a"
   ]
  },
  {
   "cell_type": "code",
   "execution_count": 30,
   "id": "941d345a-3c50-429a-95ca-f03fa7d1a4ed",
   "metadata": {},
   "outputs": [
    {
     "data": {
      "text/plain": [
       "{1: 'a', 'name': 'kyw', 3: [1, 2, 3]}"
      ]
     },
     "execution_count": 30,
     "metadata": {},
     "output_type": "execute_result"
    }
   ],
   "source": [
    "del a[2]\n",
    "a"
   ]
  },
  {
   "cell_type": "markdown",
   "id": "77aa8fa8-4d9a-4d0f-b81f-4b10414efe20",
   "metadata": {},
   "source": [
    "## 4. 딕셔너리를 사용하는 방법"
   ]
  },
  {
   "cell_type": "code",
   "execution_count": 32,
   "id": "dfe1c6b8-b3e2-4336-8404-1bbe4b03fed8",
   "metadata": {},
   "outputs": [
    {
     "name": "stdout",
     "output_type": "stream",
     "text": [
      "10\n",
      "90\n"
     ]
    }
   ],
   "source": [
    "grade = {'pey' : 10, 'juliet': 90}\n",
    "print(grade['pey'])\n",
    "print(grade['juliet'])"
   ]
  },
  {
   "cell_type": "code",
   "execution_count": 33,
   "id": "ee870c48-aa44-4b5d-ba92-2738600db3fe",
   "metadata": {},
   "outputs": [
    {
     "data": {
      "text/plain": [
       "'a'"
      ]
     },
     "execution_count": 33,
     "metadata": {},
     "output_type": "execute_result"
    }
   ],
   "source": [
    "a = {1: 'a', 2: 'b'}\n",
    "a[1]"
   ]
  },
  {
   "cell_type": "code",
   "execution_count": 34,
   "id": "be56cfba-107b-4ed5-800b-48adca30a12b",
   "metadata": {},
   "outputs": [
    {
     "data": {
      "text/plain": [
       "{1: 'b'}"
      ]
     },
     "execution_count": 34,
     "metadata": {},
     "output_type": "execute_result"
    }
   ],
   "source": [
    "# 딕셔너리 만들 때 주의 사항\n",
    "a = {1:'a', 1:'b'}    # key 값은 중복하면 안된다.\n",
    "a"
   ]
  },
  {
   "cell_type": "code",
   "execution_count": 35,
   "id": "f5d51867-7bdb-4757-bb17-ad77e6f78837",
   "metadata": {},
   "outputs": [
    {
     "ename": "TypeError",
     "evalue": "unhashable type: 'set'",
     "output_type": "error",
     "traceback": [
      "\u001b[1;31m---------------------------------------------------------------------------\u001b[0m",
      "\u001b[1;31mTypeError\u001b[0m                                 Traceback (most recent call last)",
      "Cell \u001b[1;32mIn[35], line 1\u001b[0m\n\u001b[1;32m----> 1\u001b[0m a \u001b[38;5;241m=\u001b[39m {{\u001b[38;5;241m1\u001b[39m,\u001b[38;5;241m2\u001b[39m} : \u001b[38;5;124m'\u001b[39m\u001b[38;5;124mhi\u001b[39m\u001b[38;5;124m'\u001b[39m}\n",
      "\u001b[1;31mTypeError\u001b[0m: unhashable type: 'set'"
     ]
    }
   ],
   "source": [
    " a = {{1,2} : 'hi'}  # key 값에 리스트(튜플)는 못옴.(문자와 숫자만 올 수 있다!)"
   ]
  },
  {
   "cell_type": "markdown",
   "id": "7dc862e6-3dfd-4a0d-b51f-fd5dab366aae",
   "metadata": {},
   "source": [
    "## 5. 딕셔너리 관련 함수"
   ]
  },
  {
   "cell_type": "code",
   "execution_count": 46,
   "id": "5d3a09a4-2d5a-4002-8151-34527df2aefd",
   "metadata": {},
   "outputs": [
    {
     "data": {
      "text/plain": [
       "dict_keys(['name', 'phone', 'birth'])"
      ]
     },
     "execution_count": 46,
     "metadata": {},
     "output_type": "execute_result"
    }
   ],
   "source": [
    "# key() : key 리스트 만들기\n",
    "dic = {'name' : 'kyw', 'phone': '010-1234-5678', 'birth' : '9999'}\n",
    "dic.keys()"
   ]
  },
  {
   "cell_type": "code",
   "execution_count": 47,
   "id": "27792e22-6427-4065-80a2-906fe0ee6b68",
   "metadata": {},
   "outputs": [
    {
     "data": {
      "text/plain": [
       "dict_values(['kyw', '010-1234-5678', '9999'])"
      ]
     },
     "execution_count": 47,
     "metadata": {},
     "output_type": "execute_result"
    }
   ],
   "source": [
    "# values() : value 리스트 만들기\n",
    "dic.values()"
   ]
  },
  {
   "cell_type": "code",
   "execution_count": 50,
   "id": "c67b53ba-b4da-4098-8a7f-61c86f4e6028",
   "metadata": {},
   "outputs": [
    {
     "name": "stdout",
     "output_type": "stream",
     "text": [
      "name\n",
      "phone\n",
      "birth\n"
     ]
    }
   ],
   "source": [
    "for k in dic.keys():\n",
    "    print(k)"
   ]
  },
  {
   "cell_type": "code",
   "execution_count": 54,
   "id": "9cf682ef-3926-4e2c-9395-03484e54c251",
   "metadata": {},
   "outputs": [
    {
     "data": {
      "text/plain": [
       "dict_items([('name', 'kyw')])"
      ]
     },
     "execution_count": 54,
     "metadata": {},
     "output_type": "execute_result"
    }
   ],
   "source": [
    "# items() key, value 쌍 얻기\n",
    "dic.items()"
   ]
  },
  {
   "cell_type": "code",
   "execution_count": 55,
   "id": "bb04770f-13f8-4684-82de-2373098bdbde",
   "metadata": {},
   "outputs": [
    {
     "name": "stdout",
     "output_type": "stream",
     "text": [
      "<class 'dict_items'>\n"
     ]
    }
   ],
   "source": [
    "print(type(dic.items()))"
   ]
  },
  {
   "cell_type": "code",
   "execution_count": 56,
   "id": "5fff176d-7aba-48c6-8fea-a33948368268",
   "metadata": {},
   "outputs": [
    {
     "data": {
      "text/plain": [
       "{}"
      ]
     },
     "execution_count": 56,
     "metadata": {},
     "output_type": "execute_result"
    }
   ],
   "source": [
    "# clear() 딕셔너리 아이템들 모두 지우기\n",
    "dic.clear()\n",
    "dic"
   ]
  },
  {
   "cell_type": "code",
   "execution_count": 57,
   "id": "db82fc18-9081-4641-b874-77b40643c54b",
   "metadata": {},
   "outputs": [
    {
     "data": {
      "text/plain": [
       "{'name': 'kyw'}"
      ]
     },
     "execution_count": 57,
     "metadata": {},
     "output_type": "execute_result"
    }
   ],
   "source": [
    "dic['name'] = 'kyw'\n",
    "dic"
   ]
  },
  {
   "cell_type": "code",
   "execution_count": 58,
   "id": "67a02330-7cd8-4ca5-9dfb-949ffbfb7371",
   "metadata": {},
   "outputs": [
    {
     "data": {
      "text/plain": [
       "{'name': 'kyw', 'phone': '010-1111-2222', 'birth': '9999'}"
      ]
     },
     "execution_count": 58,
     "metadata": {},
     "output_type": "execute_result"
    }
   ],
   "source": [
    "dic['phone'] = '010-1111-2222'\n",
    "dic['birth'] = '9999'\n",
    "dic"
   ]
  },
  {
   "cell_type": "code",
   "execution_count": 62,
   "id": "156aa968-1f10-4c0d-bebd-73552a5cb7d5",
   "metadata": {},
   "outputs": [
    {
     "name": "stdout",
     "output_type": "stream",
     "text": [
      "내 이름은 kyw\n"
     ]
    }
   ],
   "source": [
    "print(f\"내 이름은 {dic['name']}\")"
   ]
  },
  {
   "cell_type": "code",
   "execution_count": 64,
   "id": "ee73755d-6f1d-45a3-99b0-0331f229408d",
   "metadata": {},
   "outputs": [
    {
     "name": "stdout",
     "output_type": "stream",
     "text": [
      "내 전화번호는 010-1111-2222 입니다\n"
     ]
    }
   ],
   "source": [
    "print(f\"내 전화번호는 {dic['phone']} 입니다\")"
   ]
  },
  {
   "cell_type": "code",
   "execution_count": 65,
   "id": "4e0eef6d-5b80-43ff-864c-44995c18e980",
   "metadata": {},
   "outputs": [
    {
     "data": {
      "text/plain": [
       "'9999'"
      ]
     },
     "execution_count": 65,
     "metadata": {},
     "output_type": "execute_result"
    }
   ],
   "source": [
    "# get() key로 value 얻기\n",
    "dic.get('birth')"
   ]
  },
  {
   "cell_type": "code",
   "execution_count": 66,
   "id": "12c94a9d-23d1-4591-b960-8f06071f9ef7",
   "metadata": {},
   "outputs": [
    {
     "data": {
      "text/plain": [
       "'kyw'"
      ]
     },
     "execution_count": 66,
     "metadata": {},
     "output_type": "execute_result"
    }
   ],
   "source": [
    "dic.get('name')"
   ]
  },
  {
   "cell_type": "code",
   "execution_count": 67,
   "id": "295c4477-ab24-48b5-8a02-49f63834ce99",
   "metadata": {},
   "outputs": [
    {
     "name": "stdout",
     "output_type": "stream",
     "text": [
      "None\n"
     ]
    }
   ],
   "source": [
    "print(dic.get('age'))"
   ]
  },
  {
   "cell_type": "code",
   "execution_count": 68,
   "id": "32505e51-7741-4767-84b6-77766ab93ab5",
   "metadata": {},
   "outputs": [
    {
     "ename": "KeyError",
     "evalue": "'age'",
     "output_type": "error",
     "traceback": [
      "\u001b[1;31m---------------------------------------------------------------------------\u001b[0m",
      "\u001b[1;31mKeyError\u001b[0m                                  Traceback (most recent call last)",
      "Cell \u001b[1;32mIn[68], line 1\u001b[0m\n\u001b[1;32m----> 1\u001b[0m \u001b[38;5;28mprint\u001b[39m(a[\u001b[38;5;124m'\u001b[39m\u001b[38;5;124mage\u001b[39m\u001b[38;5;124m'\u001b[39m])\n",
      "\u001b[1;31mKeyError\u001b[0m: 'age'"
     ]
    }
   ],
   "source": [
    "print(a['age'])"
   ]
  },
  {
   "cell_type": "code",
   "execution_count": 69,
   "id": "f0bfe673-36e0-49a3-a2fc-ebc364a92baa",
   "metadata": {},
   "outputs": [
    {
     "data": {
      "text/plain": [
       "25"
      ]
     },
     "execution_count": 69,
     "metadata": {},
     "output_type": "execute_result"
    }
   ],
   "source": [
    "dic.get('age', 25) # 값이 없을 때 디폴트 값"
   ]
  },
  {
   "cell_type": "code",
   "execution_count": 71,
   "id": "9533f71c-6531-4e37-8f3d-38334e5f94d8",
   "metadata": {},
   "outputs": [
    {
     "data": {
      "text/plain": [
       "{'name': 'kyw', 'phone': '010-1111-2222', 'birth': '9999', 'age': 27}"
      ]
     },
     "execution_count": 71,
     "metadata": {},
     "output_type": "execute_result"
    }
   ],
   "source": [
    "dic['age'] = 27\n",
    "dic"
   ]
  },
  {
   "cell_type": "code",
   "execution_count": 72,
   "id": "335f79f2-d27d-408e-ac7d-9c2ccf1b37fa",
   "metadata": {},
   "outputs": [
    {
     "data": {
      "text/plain": [
       "27"
      ]
     },
     "execution_count": 72,
     "metadata": {},
     "output_type": "execute_result"
    }
   ],
   "source": [
    "dic.get('age')"
   ]
  },
  {
   "cell_type": "code",
   "execution_count": 73,
   "id": "b9eddd6b-1291-4853-89f4-75c633d16740",
   "metadata": {},
   "outputs": [
    {
     "data": {
      "text/plain": [
       "{'name': 'kyw', 'phone': '010-1111-2222', 'birth': '9999', 'age': 27}"
      ]
     },
     "execution_count": 73,
     "metadata": {},
     "output_type": "execute_result"
    }
   ],
   "source": [
    "dic"
   ]
  },
  {
   "cell_type": "code",
   "execution_count": 74,
   "id": "05a4d6e0-3320-474d-8407-4b16018504a8",
   "metadata": {},
   "outputs": [
    {
     "data": {
      "text/plain": [
       "True"
      ]
     },
     "execution_count": 74,
     "metadata": {},
     "output_type": "execute_result"
    }
   ],
   "source": [
    "# in key가 딕셔너리에 존재하는지 여부를 확인\n",
    "'name' in dic"
   ]
  },
  {
   "cell_type": "code",
   "execution_count": 75,
   "id": "e7018a5f-a1a3-44d0-8d42-677c21888e2d",
   "metadata": {},
   "outputs": [
    {
     "data": {
      "text/plain": [
       "False"
      ]
     },
     "execution_count": 75,
     "metadata": {},
     "output_type": "execute_result"
    }
   ],
   "source": [
    "'email' in dic"
   ]
  },
  {
   "cell_type": "code",
   "execution_count": null,
   "id": "e207eab8-1870-4828-9557-f528a81a27b0",
   "metadata": {},
   "outputs": [],
   "source": []
  }
 ],
 "metadata": {
  "kernelspec": {
   "display_name": "Python [conda env:base] *",
   "language": "python",
   "name": "conda-base-py"
  },
  "language_info": {
   "codemirror_mode": {
    "name": "ipython",
    "version": 3
   },
   "file_extension": ".py",
   "mimetype": "text/x-python",
   "name": "python",
   "nbconvert_exporter": "python",
   "pygments_lexer": "ipython3",
   "version": "3.13.5"
  }
 },
 "nbformat": 4,
 "nbformat_minor": 5
}
