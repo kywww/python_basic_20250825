{
 "cells": [
  {
   "cell_type": "markdown",
   "id": "58a4208d-3367-48ad-aed3-70b6d636d4c8",
   "metadata": {},
   "source": [
    "## 1. 사용자 입출력"
   ]
  },
  {
   "cell_type": "markdown",
   "id": "e1d99359-195f-4ea2-9604-011da1c8de37",
   "metadata": {},
   "source": [
    "### 1) 사용자 입력"
   ]
  },
  {
   "cell_type": "code",
   "execution_count": 1,
   "id": "5e1f6dab-af4b-4fea-b00f-93ad64b20ba0",
   "metadata": {},
   "outputs": [
    {
     "name": "stdin",
     "output_type": "stream",
     "text": [
      " Lift is too short, you need Python\n"
     ]
    }
   ],
   "source": [
    "a = input()"
   ]
  },
  {
   "cell_type": "code",
   "execution_count": 2,
   "id": "02625dd9-11a5-4fa0-b6a3-f64abe1422d4",
   "metadata": {},
   "outputs": [
    {
     "name": "stdout",
     "output_type": "stream",
     "text": [
      "Lift is too short, you need Python\n"
     ]
    }
   ],
   "source": [
    "print(a)"
   ]
  },
  {
   "cell_type": "code",
   "execution_count": 3,
   "id": "ea931469-77dd-4a84-b33c-4375e377893f",
   "metadata": {},
   "outputs": [
    {
     "name": "stdin",
     "output_type": "stream",
     "text": [
      " 5\n"
     ]
    }
   ],
   "source": [
    "num = input()"
   ]
  },
  {
   "cell_type": "code",
   "execution_count": 4,
   "id": "92ec3911-e0de-46c6-9ae5-7fce5a2cc286",
   "metadata": {},
   "outputs": [
    {
     "name": "stdout",
     "output_type": "stream",
     "text": [
      "5\n"
     ]
    }
   ],
   "source": [
    "print(num)"
   ]
  },
  {
   "cell_type": "code",
   "execution_count": 6,
   "id": "b634e056-d2f4-41bc-953e-4a83de5ca3a1",
   "metadata": {},
   "outputs": [
    {
     "data": {
      "text/plain": [
       "str"
      ]
     },
     "execution_count": 6,
     "metadata": {},
     "output_type": "execute_result"
    }
   ],
   "source": [
    "type(num) # 인풋에 입력한 모든 것은 문자열!!!"
   ]
  },
  {
   "cell_type": "markdown",
   "id": "123d5f90-3a5f-4aa8-9004-19031bc62306",
   "metadata": {},
   "source": [
    "### 2) print 자세히 알기"
   ]
  },
  {
   "cell_type": "code",
   "execution_count": 7,
   "id": "54e1bb95-1674-4806-9468-03a2c7906fa7",
   "metadata": {},
   "outputs": [
    {
     "name": "stdout",
     "output_type": "stream",
     "text": [
      "123\n",
      "Python\n",
      "[1, 2, 3]\n"
     ]
    }
   ],
   "source": [
    "a = 123\n",
    "print(a)\n",
    "b = 'Python'\n",
    "print(b)\n",
    "c = [1,2,3]\n",
    "print(c)"
   ]
  },
  {
   "cell_type": "code",
   "execution_count": 10,
   "id": "5b9454b7-a019-46bd-8782-13718e587422",
   "metadata": {},
   "outputs": [
    {
     "name": "stdout",
     "output_type": "stream",
     "text": [
      "life is too short\n",
      "life is too short\n",
      "life is too short\n"
     ]
    }
   ],
   "source": [
    "# 문자열과 +연산자로 출력\n",
    "print(\"life \"\"is \"\"too short\")\n",
    "print(\"life \"+\"is \"+\"too short\")\n",
    "print('life ''is ''too short')"
   ]
  },
  {
   "cell_type": "code",
   "execution_count": 12,
   "id": "2f4721a9-35c7-4335-bf47-83db6492d164",
   "metadata": {},
   "outputs": [
    {
     "name": "stdout",
     "output_type": "stream",
     "text": [
      "life is too short\n"
     ]
    }
   ],
   "source": [
    "# 문자열 띄어쓰기 쉼표로\n",
    "print(\"life\",\"is\",\"too short\")"
   ]
  },
  {
   "cell_type": "code",
   "execution_count": 14,
   "id": "cc5c8c3e-4551-4d3e-9d96-6f3e62984bfe",
   "metadata": {},
   "outputs": [
    {
     "name": "stdout",
     "output_type": "stream",
     "text": [
      "0\n",
      "1\n",
      "2\n",
      "3\n",
      "4\n",
      "5\n",
      "6\n",
      "7\n",
      "8\n",
      "9\n"
     ]
    }
   ],
   "source": [
    "for i in range(10):\n",
    "    print(i)"
   ]
  },
  {
   "cell_type": "code",
   "execution_count": 15,
   "id": "e48ead6c-77a6-4982-a34d-1d10ed68c2a1",
   "metadata": {},
   "outputs": [
    {
     "name": "stdout",
     "output_type": "stream",
     "text": [
      "0 1 2 3 4 5 6 7 8 9 "
     ]
    }
   ],
   "source": [
    "# 한 줄에 값 출력\n",
    "for i in range(10):\n",
    "    print(i, end=' ')"
   ]
  },
  {
   "cell_type": "markdown",
   "id": "62b56570-18ce-4d10-a221-98c3ac06ef0f",
   "metadata": {},
   "source": [
    "## 2. 파일 읽고 쓰기"
   ]
  },
  {
   "cell_type": "markdown",
   "id": "1d6ad2a7-fa35-4286-986f-f5b9cdba8473",
   "metadata": {},
   "source": [
    "### 1) 파일 생성하기"
   ]
  },
  {
   "cell_type": "code",
   "execution_count": 76,
   "id": "bd406bc3-b295-44ca-a3cf-fdb023e70f04",
   "metadata": {},
   "outputs": [],
   "source": [
    "f = open('newfile.txt', 'w') # 상대경로"
   ]
  },
  {
   "cell_type": "code",
   "execution_count": 77,
   "id": "9036c3c9-89cc-432b-a79b-b4a15468414a",
   "metadata": {},
   "outputs": [],
   "source": [
    "f.close()  # 파일 열었으면 항상 닫아줘야함."
   ]
  },
  {
   "cell_type": "code",
   "execution_count": 21,
   "id": "3fe2f49e-6199-4fe2-a6aa-5b0fb2bf15ae",
   "metadata": {},
   "outputs": [],
   "source": [
    "# 특정 경로에서 파일 생성 (절대 경로)\n",
    "f = open('C:\\\\Users\\\\WD\\\\python_basic\\\\nwfile2.txt', 'w')"
   ]
  },
  {
   "cell_type": "code",
   "execution_count": 22,
   "id": "41052030-d668-4dad-a6a7-c99290bd7c8a",
   "metadata": {},
   "outputs": [],
   "source": [
    "f.close()"
   ]
  },
  {
   "cell_type": "markdown",
   "id": "69bb0ba2-4b04-4cff-84ec-6544fdc19142",
   "metadata": {},
   "source": [
    "### 2) 파일을 쓰기 모드로 열어 내용 쓰기"
   ]
  },
  {
   "cell_type": "markdown",
   "id": "2f821529-cf97-4743-9651-403789e695c1",
   "metadata": {},
   "source": [
    "f = open('newfile.txt', 'w', encoding='utf-8-sig')\n",
    "for i in range(1,11):\n",
    "    data = f\"{i}번째 줄입니다.\\n\"\n",
    "    f.write(data)\n",
    "f.close()"
   ]
  },
  {
   "cell_type": "code",
   "execution_count": 81,
   "id": "36168652-c804-4039-a62a-7cede71dad74",
   "metadata": {},
   "outputs": [],
   "source": [
    "f = open('newfile.txt', 'w')\n",
    "for i in range(1,11):\n",
    "    data = f\"{i}번째 줄입니다.\\n\"\n",
    "    f.write(data)\n",
    "f.close()"
   ]
  },
  {
   "cell_type": "markdown",
   "id": "4f12d852-0fcc-453f-84f2-37a2ee31ccbb",
   "metadata": {},
   "source": [
    "### 3) 파일을 읽는 여러가지 방법"
   ]
  },
  {
   "cell_type": "code",
   "execution_count": 82,
   "id": "9fd01380-7111-4f09-8940-68492012bf2d",
   "metadata": {},
   "outputs": [
    {
     "name": "stdout",
     "output_type": "stream",
     "text": [
      "1번째 줄입니다.\n",
      "\n"
     ]
    }
   ],
   "source": [
    "f = open('newfile.txt', 'r')\n",
    "line = f.readline()\n",
    "print(line)\n",
    "f.close()"
   ]
  },
  {
   "cell_type": "code",
   "execution_count": 83,
   "id": "fb1394af-631f-4f62-9c2e-c9b980171867",
   "metadata": {},
   "outputs": [
    {
     "name": "stdout",
     "output_type": "stream",
     "text": [
      "1번째 줄입니다.\n",
      "\n"
     ]
    }
   ],
   "source": [
    "f = open('newfile.txt', 'r')\n",
    "line = f.readline()\n",
    "print(line)\n",
    "f.close()"
   ]
  },
  {
   "cell_type": "code",
   "execution_count": 84,
   "id": "7d525b81-17fc-4ac1-8d58-47d096347330",
   "metadata": {},
   "outputs": [
    {
     "name": "stdout",
     "output_type": "stream",
     "text": [
      "1번째 줄입니다.\n",
      "\n",
      "2번째 줄입니다.\n",
      "\n",
      "3번째 줄입니다.\n",
      "\n",
      "4번째 줄입니다.\n",
      "\n",
      "5번째 줄입니다.\n",
      "\n",
      "6번째 줄입니다.\n",
      "\n",
      "7번째 줄입니다.\n",
      "\n",
      "8번째 줄입니다.\n",
      "\n",
      "9번째 줄입니다.\n",
      "\n",
      "10번째 줄입니다.\n",
      "\n"
     ]
    }
   ],
   "source": [
    "# readline 함수로 여러줄 읽기\n",
    "f = open('newfile.txt', 'r')\n",
    "while True:\n",
    "    line = f.readline()\n",
    "    if not line:break\n",
    "    print(line)\n",
    "f.close()"
   ]
  },
  {
   "cell_type": "code",
   "execution_count": 85,
   "id": "b76fb930-acb9-48d9-bf99-805328dcba66",
   "metadata": {},
   "outputs": [
    {
     "name": "stdin",
     "output_type": "stream",
     "text": [
      " ASDF\n"
     ]
    },
    {
     "name": "stdout",
     "output_type": "stream",
     "text": [
      "ASDF\n"
     ]
    },
    {
     "name": "stdin",
     "output_type": "stream",
     "text": [
      " ASDFAG\n"
     ]
    },
    {
     "name": "stdout",
     "output_type": "stream",
     "text": [
      "ASDFAG\n"
     ]
    },
    {
     "name": "stdin",
     "output_type": "stream",
     "text": [
      " \n"
     ]
    }
   ],
   "source": [
    "# 사용자 입력을 받아서 여러줄 출력하기\n",
    "while True:\n",
    "    data = input()\n",
    "    if not data:\n",
    "        break\n",
    "    print(data)"
   ]
  },
  {
   "cell_type": "code",
   "execution_count": 86,
   "id": "280a8114-f522-4bc1-8d03-fcd28e5e444b",
   "metadata": {},
   "outputs": [
    {
     "name": "stdout",
     "output_type": "stream",
     "text": [
      "['1번째 줄입니다.\\n', '2번째 줄입니다.\\n', '3번째 줄입니다.\\n', '4번째 줄입니다.\\n', '5번째 줄입니다.\\n', '6번째 줄입니다.\\n', '7번째 줄입니다.\\n', '8번째 줄입니다.\\n', '9번째 줄입니다.\\n', '10번째 줄입니다.\\n']\n",
      "--------------------------------------------------\n",
      "1번째 줄입니다.\n",
      "\n",
      "2번째 줄입니다.\n",
      "\n",
      "3번째 줄입니다.\n",
      "\n",
      "4번째 줄입니다.\n",
      "\n",
      "5번째 줄입니다.\n",
      "\n",
      "6번째 줄입니다.\n",
      "\n",
      "7번째 줄입니다.\n",
      "\n",
      "8번째 줄입니다.\n",
      "\n",
      "9번째 줄입니다.\n",
      "\n",
      "10번째 줄입니다.\n",
      "\n"
     ]
    }
   ],
   "source": [
    "# 여러줄 읽는 readlines() 함수 사용하기\n",
    "\n",
    "f = open('newfile.txt', 'r')\n",
    "lines = f.readlines()\n",
    "print(lines)\n",
    "print('-'*50)\n",
    "for line in lines:\n",
    "    print(line)\n",
    "f.close()"
   ]
  },
  {
   "cell_type": "code",
   "execution_count": 87,
   "id": "a359b2be-a241-4c75-a856-1b4e765d06e9",
   "metadata": {},
   "outputs": [
    {
     "name": "stdout",
     "output_type": "stream",
     "text": [
      "1번째 줄입니다.\n",
      "2번째 줄입니다.\n",
      "3번째 줄입니다.\n",
      "4번째 줄입니다.\n",
      "5번째 줄입니다.\n",
      "6번째 줄입니다.\n",
      "7번째 줄입니다.\n",
      "8번째 줄입니다.\n",
      "9번째 줄입니다.\n",
      "10번째 줄입니다.\n"
     ]
    }
   ],
   "source": [
    "# 줄바꿈(\\n) 문자 제거하기\n",
    "\n",
    "f = open('newfile.txt', 'r')\n",
    "lines = f.readlines()\n",
    "for line in lines:\n",
    "    line = line.strip()\n",
    "    print(line)\n",
    "f.close()"
   ]
  },
  {
   "cell_type": "code",
   "execution_count": 88,
   "id": "216f3892-de16-41cc-8be8-36fe8ce106d1",
   "metadata": {},
   "outputs": [
    {
     "name": "stdout",
     "output_type": "stream",
     "text": [
      "1번째 줄입니다.\n",
      "2번째 줄입니다.\n",
      "3번째 줄입니다.\n",
      "4번째 줄입니다.\n",
      "5번째 줄입니다.\n",
      "6번째 줄입니다.\n",
      "7번째 줄입니다.\n",
      "8번째 줄입니다.\n",
      "9번째 줄입니다.\n",
      "10번째 줄입니다.\n",
      "\n"
     ]
    }
   ],
   "source": [
    "# read함수로 파일 전체 내용 읽ㄱ\n",
    "\n",
    "f = open('newfile.txt', 'r')\n",
    "data = f.read()\n",
    "print(data)\n",
    "f.close()"
   ]
  },
  {
   "cell_type": "code",
   "execution_count": 89,
   "id": "589953e5-9ab8-4dd7-8bae-73e55788f3e7",
   "metadata": {},
   "outputs": [
    {
     "name": "stdout",
     "output_type": "stream",
     "text": [
      "1번째 줄입니다.\n",
      "\n",
      "2번째 줄입니다.\n",
      "\n",
      "3번째 줄입니다.\n",
      "\n",
      "4번째 줄입니다.\n",
      "\n",
      "5번째 줄입니다.\n",
      "\n",
      "6번째 줄입니다.\n",
      "\n",
      "7번째 줄입니다.\n",
      "\n",
      "8번째 줄입니다.\n",
      "\n",
      "9번째 줄입니다.\n",
      "\n",
      "10번째 줄입니다.\n",
      "\n"
     ]
    }
   ],
   "source": [
    "# 파일 객체를 for문으로 줄단위로 읽기\n",
    "\n",
    "f = open('newfile.txt', 'r')\n",
    "for line in f:\n",
    "    print(line)\n",
    "f.close()"
   ]
  },
  {
   "cell_type": "markdown",
   "id": "0735744c-9be5-4c4a-897b-ad1dff8a0b4c",
   "metadata": {},
   "source": [
    "### 4) 파일에 새로운 내용 추가하기"
   ]
  },
  {
   "cell_type": "code",
   "execution_count": 90,
   "id": "e2255a91-45dd-47a4-a756-032d4b9c13c3",
   "metadata": {},
   "outputs": [],
   "source": [
    "f = open('newfile.txt', 'a')\n",
    "for i in range(11,20):\n",
    "    data = f\"{i}번째 줄을 추가합니다.\\n\"\n",
    "    f.write(data)\n",
    "f.close()"
   ]
  },
  {
   "cell_type": "markdown",
   "id": "034702a5-f511-40a2-8f69-4d5c1b88a239",
   "metadata": {},
   "source": [
    "### 5) with문과 함께 사용하기"
   ]
  },
  {
   "cell_type": "code",
   "execution_count": 91,
   "id": "c8a5de1b-0c47-4db7-99e2-fdb8f7e3e315",
   "metadata": {},
   "outputs": [],
   "source": [
    "with open('foo.txt', 'w') as f:\n",
    "    f.write(\"Life is too short, you need Python!\")"
   ]
  },
  {
   "cell_type": "code",
   "execution_count": null,
   "id": "b69c0a56-acf6-4830-a881-24b38356b078",
   "metadata": {},
   "outputs": [],
   "source": []
  }
 ],
 "metadata": {
  "kernelspec": {
   "display_name": "Python [conda env:base] *",
   "language": "python",
   "name": "conda-base-py"
  },
  "language_info": {
   "codemirror_mode": {
    "name": "ipython",
    "version": 3
   },
   "file_extension": ".py",
   "mimetype": "text/x-python",
   "name": "python",
   "nbconvert_exporter": "python",
   "pygments_lexer": "ipython3",
   "version": "3.13.5"
  }
 },
 "nbformat": 4,
 "nbformat_minor": 5
}
