{
 "cells": [
  {
   "cell_type": "markdown",
   "id": "f609f8e4-712f-4ad3-a58d-96396250f6b9",
   "metadata": {},
   "source": [
    "## 1. if문의 기본 구조"
   ]
  },
  {
   "cell_type": "code",
   "execution_count": 2,
   "id": "21517ca0-df38-486b-8bd7-a215c54f0e0a",
   "metadata": {},
   "outputs": [
    {
     "ename": "IndentationError",
     "evalue": "unexpected indent (2968335811.py, line 5)",
     "output_type": "error",
     "traceback": [
      "\u001b[1;36m  Cell \u001b[1;32mIn[2], line 5\u001b[1;36m\u001b[0m\n\u001b[1;33m    print(\"가라\")\u001b[0m\n\u001b[1;37m    ^\u001b[0m\n\u001b[1;31mIndentationError\u001b[0m\u001b[1;31m:\u001b[0m unexpected indent\n"
     ]
    }
   ],
   "source": [
    "money = True\n",
    "if money:\n",
    "    print(\"택시를 \")\n",
    "print(\"타고 \")\n",
    "    print(\"가라\")"
   ]
  },
  {
   "cell_type": "code",
   "execution_count": 3,
   "id": "2818a81b-5b8b-4405-9a24-9794723688ee",
   "metadata": {},
   "outputs": [
    {
     "name": "stdout",
     "output_type": "stream",
     "text": [
      "타고 \n"
     ]
    }
   ],
   "source": [
    "money = False\n",
    "if money:\n",
    "    print(\"택시를 \")\n",
    "print(\"타고 \")"
   ]
  },
  {
   "cell_type": "code",
   "execution_count": 5,
   "id": "982ed6d8-447c-43c3-933c-e7abac3d0eb0",
   "metadata": {},
   "outputs": [
    {
     "name": "stdout",
     "output_type": "stream",
     "text": [
      "택시를 \n",
      "타고 \n"
     ]
    }
   ],
   "source": [
    "money = True\n",
    "if money:\n",
    "    print(\"택시를 \")\n",
    "    print(\"타고 \")"
   ]
  },
  {
   "cell_type": "markdown",
   "id": "4c476ae4-40ed-45b4-854a-24d6f385d41b",
   "metadata": {},
   "source": [
    "## 연산자"
   ]
  },
  {
   "cell_type": "code",
   "execution_count": 8,
   "id": "6e01a790-de13-4c9b-988e-ba0b02657d71",
   "metadata": {},
   "outputs": [
    {
     "name": "stdout",
     "output_type": "stream",
     "text": [
      "True\n",
      "False\n",
      "False\n",
      "True\n"
     ]
    }
   ],
   "source": [
    "# 비교연산자\n",
    "x = 3\n",
    "y = 2\n",
    "\n",
    "print(x>y) # True\n",
    "print(x<y) # False\n",
    "print(x==y) # False\n",
    "print(x!=y) # True"
   ]
  },
  {
   "cell_type": "code",
   "execution_count": 12,
   "id": "d21963ef-cf72-454c-b25a-cded01e1b1ee",
   "metadata": {},
   "outputs": [
    {
     "name": "stdout",
     "output_type": "stream",
     "text": [
      "걸어가라\n"
     ]
    }
   ],
   "source": [
    "money = 2000\n",
    "\n",
    "if money >= 3000:\n",
    "    print(\"택시를 타고 가라\")\n",
    "else:\n",
    "    print(\"걸어가라\")"
   ]
  },
  {
   "cell_type": "code",
   "execution_count": 13,
   "id": "33e67ec6-7df5-45f8-b638-42964f811c46",
   "metadata": {},
   "outputs": [
    {
     "name": "stdout",
     "output_type": "stream",
     "text": [
      "택시를 타고 가라\n"
     ]
    }
   ],
   "source": [
    "money = 5000\n",
    "\n",
    "if money >= 3000:\n",
    "    print(\"택시를 타고 가라\")\n",
    "else:\n",
    "    print(\"걸어가라\")"
   ]
  },
  {
   "cell_type": "code",
   "execution_count": 14,
   "id": "42d3bd79-d5d4-4e5c-a491-5af97831bcee",
   "metadata": {},
   "outputs": [
    {
     "name": "stdout",
     "output_type": "stream",
     "text": [
      "택시를 타고 가라\n"
     ]
    }
   ],
   "source": [
    "# 논리 연산자\n",
    "# 조건식 x, y => and 둘 다 True일 때 True\n",
    "#                or  하나만 True이면 True\n",
    "#                not  True->Flase, False->True \n",
    "\n",
    "money = 2000\n",
    "card = True\n",
    "\n",
    "if money >= 3000 or card:\n",
    "    print(\"택시를 타고 가라\")\n",
    "else:\n",
    "    print(\"걸어가라\")"
   ]
  },
  {
   "cell_type": "code",
   "execution_count": 15,
   "id": "9ab409a1-2e57-44a4-8cbe-e4c45d4d32aa",
   "metadata": {},
   "outputs": [
    {
     "data": {
      "text/plain": [
       "True"
      ]
     },
     "execution_count": 15,
     "metadata": {},
     "output_type": "execute_result"
    }
   ],
   "source": [
    "# in,, not in\n",
    "1 in [1,2,3]"
   ]
  },
  {
   "cell_type": "code",
   "execution_count": 16,
   "id": "8cbe4710-9025-4446-b57b-62c9d833ac7e",
   "metadata": {},
   "outputs": [
    {
     "data": {
      "text/plain": [
       "False"
      ]
     },
     "execution_count": 16,
     "metadata": {},
     "output_type": "execute_result"
    }
   ],
   "source": [
    "1 not in [1,2,3]"
   ]
  },
  {
   "cell_type": "code",
   "execution_count": 17,
   "id": "8b02a8f2-5e20-458e-87a9-365c55f89bd6",
   "metadata": {},
   "outputs": [
    {
     "data": {
      "text/plain": [
       "True"
      ]
     },
     "execution_count": 17,
     "metadata": {},
     "output_type": "execute_result"
    }
   ],
   "source": [
    "'a' in ('a','b','c')"
   ]
  },
  {
   "cell_type": "code",
   "execution_count": 18,
   "id": "7e899b43-cc1a-4d9a-badb-3277bc3ba917",
   "metadata": {},
   "outputs": [
    {
     "data": {
      "text/plain": [
       "False"
      ]
     },
     "execution_count": 18,
     "metadata": {},
     "output_type": "execute_result"
    }
   ],
   "source": [
    "'d' in ('a','b','c')"
   ]
  },
  {
   "cell_type": "code",
   "execution_count": 19,
   "id": "0e91c8ce-1f55-4678-920a-66916bbb4b7d",
   "metadata": {},
   "outputs": [
    {
     "data": {
      "text/plain": [
       "True"
      ]
     },
     "execution_count": 19,
     "metadata": {},
     "output_type": "execute_result"
    }
   ],
   "source": [
    "'d' not in ('a','b','c')"
   ]
  },
  {
   "cell_type": "code",
   "execution_count": 20,
   "id": "931f7156-c13d-4d6b-9c57-1aad2da6ee63",
   "metadata": {},
   "outputs": [
    {
     "name": "stdout",
     "output_type": "stream",
     "text": [
      "택시를 타고 가라\n"
     ]
    }
   ],
   "source": [
    "pocket = ['paper', 'cellphone', 'money']\n",
    "\n",
    "if 'money' in pocket:\n",
    "    print(\"택시를 타고 가라\")\n",
    "else:\n",
    "    print(\"걸어가라\")"
   ]
  },
  {
   "cell_type": "code",
   "execution_count": 23,
   "id": "bb76649b-95cf-4978-a1b1-2ff687ef3eac",
   "metadata": {},
   "outputs": [],
   "source": [
    "# pass : 실행문 실행하지 않고 넘어가기\n",
    "\n",
    "pocket = ['paper', 'cellphone', 'money']\n",
    "\n",
    "if 'money' in pocket:\n",
    "    pass\n",
    "else:\n",
    "    print(\"카드를 꺼내라\")"
   ]
  },
  {
   "cell_type": "markdown",
   "id": "a9b45bf2-488d-4c3c-8b08-966d78f271ee",
   "metadata": {},
   "source": [
    "## 3. 다양한 조건을 판단하는 elif"
   ]
  },
  {
   "cell_type": "code",
   "execution_count": 24,
   "id": "1274b71a-b56d-4a5b-8622-f4c48424a090",
   "metadata": {},
   "outputs": [
    {
     "name": "stdout",
     "output_type": "stream",
     "text": [
      "택시를 타고 가라\n"
     ]
    }
   ],
   "source": [
    "# if, else만으로 표현\n",
    "pocket = ['paper', 'cellphone']\n",
    "card = True\n",
    "\n",
    "if 'money' in pocket:\n",
    "    print(\"택시를 타고 가라\")\n",
    "else:\n",
    "    if card:\n",
    "        print(\"택시를 타고 가라\")\n",
    "    else:\n",
    "        print(\"걸어가라\")"
   ]
  },
  {
   "cell_type": "code",
   "execution_count": 25,
   "id": "e8f5cbb6-54a7-4efc-8989-05e42fbe4084",
   "metadata": {},
   "outputs": [
    {
     "name": "stdout",
     "output_type": "stream",
     "text": [
      "택시를 타고 가라\n"
     ]
    }
   ],
   "source": [
    "# elif 사용\n",
    "\n",
    "pocket = ['paper', 'cellphone']\n",
    "card = True\n",
    "\n",
    "if 'money' in pocket:\n",
    "    print(\"택시를 타고 가라\")\n",
    "elif card:\n",
    "    print(\"택시를 타고 가라\")\n",
    "else:\n",
    "    print\n",
    "    (\"걸어가라\")"
   ]
  },
  {
   "cell_type": "code",
   "execution_count": 26,
   "id": "8569a66c-fd08-47bb-b9a3-c0c0a550d46c",
   "metadata": {},
   "outputs": [
    {
     "name": "stdout",
     "output_type": "stream",
     "text": [
      "D\n"
     ]
    }
   ],
   "source": [
    "math = 60\n",
    "\n",
    "if math >= 90:\n",
    "    print('A')\n",
    "elif math>=80:\n",
    "    print('B')\n",
    "elif math >=70:\n",
    "    print('C')\n",
    "elif math >=60:\n",
    "    print('D')\n",
    "else:\n",
    "    print('F')"
   ]
  },
  {
   "cell_type": "code",
   "execution_count": 27,
   "id": "b7fe23af-9000-4cb0-be72-35e7fd322ea1",
   "metadata": {},
   "outputs": [],
   "source": [
    "# if문 한 줄로 작성하기\n",
    "\n",
    "pocket = ['paper', 'cellphone', 'money']\n",
    "\n",
    "if 'money' in pocket: pass\n",
    "else: print(\"걸어가라\")"
   ]
  },
  {
   "cell_type": "markdown",
   "id": "559e2f6f-b5ed-4101-aaa7-44f2f6fb1df9",
   "metadata": {},
   "source": [
    "## 4. 조건부 표현식"
   ]
  },
  {
   "cell_type": "code",
   "execution_count": 29,
   "id": "ad973d1b-bbf2-4ebb-a404-860ad69bd4e5",
   "metadata": {},
   "outputs": [
    {
     "name": "stdout",
     "output_type": "stream",
     "text": [
      "succese\n"
     ]
    }
   ],
   "source": [
    "# if / else 문\n",
    "\n",
    "score = 90\n",
    "if score >=60:\n",
    "    message=\"succese\"\n",
    "else:\n",
    "    message=\"failure\"\n",
    "\n",
    "print(message)"
   ]
  },
  {
   "cell_type": "code",
   "execution_count": 34,
   "id": "1e820d9b-fd17-4e38-8b86-6b67d36f6813",
   "metadata": {},
   "outputs": [
    {
     "name": "stdout",
     "output_type": "stream",
     "text": [
      "succese\n"
     ]
    }
   ],
   "source": [
    "# 조건부 표현식\n",
    "\n",
    "message = \"succese\" if score >= 60 else \"failure\"\n",
    "\n",
    "print(message)"
   ]
  },
  {
   "cell_type": "code",
   "execution_count": null,
   "id": "21be8389-24c4-4379-9322-652bf38d7632",
   "metadata": {},
   "outputs": [],
   "source": []
  }
 ],
 "metadata": {
  "kernelspec": {
   "display_name": "Python [conda env:base] *",
   "language": "python",
   "name": "conda-base-py"
  },
  "language_info": {
   "codemirror_mode": {
    "name": "ipython",
    "version": 3
   },
   "file_extension": ".py",
   "mimetype": "text/x-python",
   "name": "python",
   "nbconvert_exporter": "python",
   "pygments_lexer": "ipython3",
   "version": "3.13.5"
  }
 },
 "nbformat": 4,
 "nbformat_minor": 5
}
