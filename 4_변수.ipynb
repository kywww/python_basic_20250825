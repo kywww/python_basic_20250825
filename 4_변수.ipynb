{
 "cells": [
  {
   "cell_type": "markdown",
   "id": "2765f5f2-396b-483b-b260-daf28a5500a9",
   "metadata": {},
   "source": [
    "## 1. 변수란?"
   ]
  },
  {
   "cell_type": "code",
   "execution_count": 3,
   "id": "689735a6-a33c-4154-8dc5-4e5e46d2043a",
   "metadata": {},
   "outputs": [
    {
     "name": "stdout",
     "output_type": "stream",
     "text": [
      "1740538658368\n"
     ]
    }
   ],
   "source": [
    "a = [1,2,3]\n",
    "print(id(a))"
   ]
  },
  {
   "cell_type": "code",
   "execution_count": 5,
   "id": "94a1e4a8-0e72-4e7f-8832-cf0f542052bd",
   "metadata": {},
   "outputs": [
    {
     "name": "stdout",
     "output_type": "stream",
     "text": [
      "[1, 2, 3]\n"
     ]
    }
   ],
   "source": [
    "b = a\n",
    "print(b)"
   ]
  },
  {
   "cell_type": "code",
   "execution_count": 6,
   "id": "f4a8c5b8-b2cf-435f-aaf8-9348af138330",
   "metadata": {},
   "outputs": [
    {
     "name": "stdout",
     "output_type": "stream",
     "text": [
      "1740538658368\n",
      "1740538658368\n"
     ]
    }
   ],
   "source": [
    "print(id(a))\n",
    "print(id(b))"
   ]
  },
  {
   "cell_type": "code",
   "execution_count": 7,
   "id": "bac8b284-4009-4ee1-a173-fbb75324403a",
   "metadata": {},
   "outputs": [
    {
     "name": "stdout",
     "output_type": "stream",
     "text": [
      "[1, 4, 3]\n"
     ]
    }
   ],
   "source": [
    "a[1] = 4\n",
    "print(a)"
   ]
  },
  {
   "cell_type": "code",
   "execution_count": 8,
   "id": "53db5900-7cfb-4045-bb94-4886c7346e2e",
   "metadata": {},
   "outputs": [
    {
     "data": {
      "text/plain": [
       "True"
      ]
     },
     "execution_count": 8,
     "metadata": {},
     "output_type": "execute_result"
    }
   ],
   "source": [
    "a is b"
   ]
  },
  {
   "cell_type": "code",
   "execution_count": 9,
   "id": "edcab6a5-a1d5-46c9-a030-8d0f75f6b7fd",
   "metadata": {},
   "outputs": [
    {
     "name": "stdout",
     "output_type": "stream",
     "text": [
      "[1, 4, 3]\n"
     ]
    }
   ],
   "source": [
    "print(b)"
   ]
  },
  {
   "cell_type": "markdown",
   "id": "f03cdcab-39d1-4b99-a28a-9d4f93eff205",
   "metadata": {},
   "source": [
    "### b 변수 생성할 때 a 변수의 값을 가져오면 a와는 다른 주로를 가르키도록 하려면?"
   ]
  },
  {
   "cell_type": "code",
   "execution_count": 10,
   "id": "d083e0e3-2a5b-4f73-a4b7-23c147c47e9c",
   "metadata": {},
   "outputs": [
    {
     "name": "stdout",
     "output_type": "stream",
     "text": [
      "[1, 2, 3]\n"
     ]
    }
   ],
   "source": [
    "# [:] 이용하기\n",
    "a = [1,2,3]\n",
    "b = a[:]\n",
    "print(b)"
   ]
  },
  {
   "cell_type": "code",
   "execution_count": 11,
   "id": "80bb703e-853d-4f80-81cd-f12eaffac763",
   "metadata": {},
   "outputs": [
    {
     "name": "stdout",
     "output_type": "stream",
     "text": [
      "[1, 4, 3]\n"
     ]
    }
   ],
   "source": [
    "a[1] = 4\n",
    "print(a)"
   ]
  },
  {
   "cell_type": "code",
   "execution_count": 12,
   "id": "a4961e3c-c8a7-49ff-a671-78ea3e5886c1",
   "metadata": {},
   "outputs": [
    {
     "name": "stdout",
     "output_type": "stream",
     "text": [
      "[1, 2, 3]\n"
     ]
    }
   ],
   "source": [
    "print(b)"
   ]
  },
  {
   "cell_type": "code",
   "execution_count": 13,
   "id": "10213ad8-04c3-4641-b5bb-fa0604b0435f",
   "metadata": {},
   "outputs": [
    {
     "name": "stdout",
     "output_type": "stream",
     "text": [
      "1740577368256\n",
      "1740577142208\n"
     ]
    }
   ],
   "source": [
    "print(id(a))\n",
    "print(id(b))"
   ]
  },
  {
   "cell_type": "code",
   "execution_count": 18,
   "id": "c797ef62-6364-40c8-9943-323a6d452f7b",
   "metadata": {},
   "outputs": [
    {
     "name": "stdout",
     "output_type": "stream",
     "text": [
      "[1.2, 3]\n"
     ]
    }
   ],
   "source": [
    "# copy 모듈 이용하기\n",
    "from copy import copy\n",
    "a = [1.2,3]\n",
    "b = copy(a)\n",
    "print(b)"
   ]
  },
  {
   "cell_type": "code",
   "execution_count": 19,
   "id": "fdb0b703-4386-453b-a5bc-f9bd472dc004",
   "metadata": {},
   "outputs": [
    {
     "data": {
      "text/plain": [
       "False"
      ]
     },
     "execution_count": 19,
     "metadata": {},
     "output_type": "execute_result"
    }
   ],
   "source": [
    "b is a"
   ]
  },
  {
   "cell_type": "code",
   "execution_count": 21,
   "id": "539ae991-5010-4d4b-8b20-5a3fecbff5b9",
   "metadata": {},
   "outputs": [
    {
     "data": {
      "text/plain": [
       "False"
      ]
     },
     "execution_count": 21,
     "metadata": {},
     "output_type": "execute_result"
    }
   ],
   "source": [
    "# 리스트의 copy함수 이용\n",
    "a = [1,2,3]\n",
    "b = a.copy()\n",
    "b is a"
   ]
  },
  {
   "cell_type": "markdown",
   "id": "9f93852c-e8c6-415b-a5d9-f4a3cea6143f",
   "metadata": {},
   "source": [
    "## 3. 변수 만드는 여러가지 방법"
   ]
  },
  {
   "cell_type": "code",
   "execution_count": 22,
   "id": "90c0c4b8-a646-4986-ac2b-59757b6f4407",
   "metadata": {},
   "outputs": [
    {
     "name": "stdout",
     "output_type": "stream",
     "text": [
      "python\n",
      "lift\n"
     ]
    }
   ],
   "source": [
    "# 튜플로 만들기\n",
    "a, b = ('python', 'lift')\n",
    "print(a)\n",
    "print(b)"
   ]
  },
  {
   "cell_type": "code",
   "execution_count": 23,
   "id": "804b8901-ebdd-4f3d-8bcc-c2fa4a9ebf8e",
   "metadata": {},
   "outputs": [
    {
     "name": "stdout",
     "output_type": "stream",
     "text": [
      "python\n",
      "life\n"
     ]
    }
   ],
   "source": [
    "# 리스트로 만들기\n",
    "[a,b] = ['python', 'life']\n",
    "print(a)\n",
    "print(b)"
   ]
  },
  {
   "cell_type": "code",
   "execution_count": 24,
   "id": "e133f7c9-1737-4eab-8852-037fc09b542f",
   "metadata": {},
   "outputs": [
    {
     "name": "stdout",
     "output_type": "stream",
     "text": [
      "python\n",
      "python\n",
      "1740438759744\n",
      "1740438759744\n"
     ]
    }
   ],
   "source": [
    "# 여러 개 변수에 같은 값 대입\n",
    "a = b ='python'\n",
    "print(a)\n",
    "print(b)\n",
    "print(id(a))\n",
    "print(id(b))"
   ]
  },
  {
   "cell_type": "code",
   "execution_count": 25,
   "id": "6f60da87-0e96-4414-874c-7e78bed315d5",
   "metadata": {},
   "outputs": [
    {
     "name": "stdout",
     "output_type": "stream",
     "text": [
      "[5, 2, 3]\n",
      "python\n",
      "1740577128704\n",
      "1740438759744\n"
     ]
    }
   ],
   "source": [
    "a = [1,2,3]\n",
    "a[0] = 5\n",
    "print(a)\n",
    "print(b)\n",
    "print(id(a))\n",
    "print(id(b))"
   ]
  },
  {
   "cell_type": "code",
   "execution_count": 26,
   "id": "e880cc55-bfa8-48b0-b0a1-1c296642fb24",
   "metadata": {},
   "outputs": [
    {
     "name": "stdout",
     "output_type": "stream",
     "text": [
      "5\n",
      "3\n"
     ]
    }
   ],
   "source": [
    "# 두 변수의 값 바꾸기\n",
    "a = 3\n",
    "b = 5\n",
    "a,b = b,a\n",
    "print(a)\n",
    "print(b)"
   ]
  },
  {
   "cell_type": "code",
   "execution_count": null,
   "id": "248f3b33-93dd-4cbb-a406-00046ffda668",
   "metadata": {},
   "outputs": [],
   "source": []
  }
 ],
 "metadata": {
  "kernelspec": {
   "display_name": "Python [conda env:base] *",
   "language": "python",
   "name": "conda-base-py"
  },
  "language_info": {
   "codemirror_mode": {
    "name": "ipython",
    "version": 3
   },
   "file_extension": ".py",
   "mimetype": "text/x-python",
   "name": "python",
   "nbconvert_exporter": "python",
   "pygments_lexer": "ipython3",
   "version": "3.13.5"
  }
 },
 "nbformat": 4,
 "nbformat_minor": 5
}
